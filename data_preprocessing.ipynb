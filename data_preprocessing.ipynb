{
 "cells": [
  {
   "cell_type": "code",
   "execution_count": 2,
   "metadata": {},
   "outputs": [],
   "source": [
    "import pandas as pd\n",
    "import matplotlib.pyplot as plt\n",
    "import numpy as np"
   ]
  },
  {
   "cell_type": "code",
   "execution_count": 221,
   "metadata": {},
   "outputs": [
    {
     "name": "stderr",
     "output_type": "stream",
     "text": [
      "C:\\ProgramData\\Anaconda3\\lib\\site-packages\\IPython\\core\\interactiveshell.py:3063: DtypeWarning: Columns (97,98,99,100,101,102,103,104,105,106,107) have mixed types.Specify dtype option on import or set low_memory=False.\n",
      "  interactivity=interactivity, compiler=compiler, result=result)\n"
     ]
    }
   ],
   "source": [
    "data = pd.read_csv(\"./all.csv\")\n",
    "data=data.iloc[:,1:]\n"
   ]
  },
  {
   "cell_type": "code",
   "execution_count": 222,
   "metadata": {},
   "outputs": [],
   "source": [
    "# Stock, COE, CSE칼럼들 삭제\n",
    "for i in data.columns:\n",
    "    if \"Stock\" in i:\n",
    "        data=data.drop([i], axis=1)\n",
    "    if \"COE\" in i:\n",
    "        data=data.drop([i], axis=1)\n",
    "    if \"CSE\" in i:\n",
    "        data=data.drop([i], axis=1)\n",
    "        "
   ]
  },
  {
   "cell_type": "code",
   "execution_count": 180,
   "metadata": {},
   "outputs": [],
   "source": [
    "raw_data = data.copy()"
   ]
  },
  {
   "cell_type": "markdown",
   "metadata": {},
   "source": [
    "# 데이터 년도별로"
   ]
  },
  {
   "cell_type": "code",
   "execution_count": 144,
   "metadata": {},
   "outputs": [],
   "source": [
    "# 년도별 딕셔너리\n",
    "data_year = {idx:pd.DataFrame() for idx in range(2000,2018)}    \n",
    "\n",
    "for year in range(2000,2018):\n",
    "    for i in data.columns:\n",
    "        if str(year) in i:\n",
    "            data_year[year][i]=data[i]"
   ]
  },
  {
   "cell_type": "markdown",
   "metadata": {},
   "source": [
    "# 데이터 변수별로"
   ]
  },
  {
   "cell_type": "code",
   "execution_count": 149,
   "metadata": {},
   "outputs": [],
   "source": [
    "data_col = {i[4:]:pd.DataFrame() for i in data_year[2000]}\n",
    "\n",
    "for i in data.columns:\n",
    "    for j in data_col:\n",
    "        if j in i:\n",
    "            data_col[j][i] = data[i]"
   ]
  },
  {
   "cell_type": "markdown",
   "metadata": {},
   "source": [
    "# 칼럼 형식 변환"
   ]
  },
  {
   "cell_type": "markdown",
   "metadata": {},
   "source": [
    "## ao"
   ]
  },
  {
   "cell_type": "code",
   "execution_count": 108,
   "metadata": {},
   "outputs": [
    {
     "name": "stdout",
     "output_type": "stream",
     "text": [
      "['적정', '0', '한정(감사범위제한)', '한정(기업회계기준위배)', '감사미필', '의견거절(감사범위제한)', '한정', '부적정', '의견거절(계속기업존속의문시)', '의견거절', 0, '부적정(계속기업존속의문시)']\n"
     ]
    }
   ],
   "source": [
    "# 총 ao 라벨 값\n",
    "ao_value = []\n",
    "for i in range(2000,2018):\n",
    "    uni = data_year[i][\"{}AO\".format(i)].unique()\n",
    "    for u in uni:\n",
    "        if u not in ao_value:\n",
    "            ao_value.append(u)\n",
    "            \n",
    "print(ao_value)"
   ]
  },
  {
   "cell_type": "code",
   "execution_count": 223,
   "metadata": {},
   "outputs": [
    {
     "name": "stderr",
     "output_type": "stream",
     "text": [
      "C:\\ProgramData\\Anaconda3\\lib\\site-packages\\ipykernel_launcher.py:7: SettingWithCopyWarning: \n",
      "A value is trying to be set on a copy of a slice from a DataFrame\n",
      "\n",
      "See the caveats in the documentation: https://pandas.pydata.org/pandas-docs/stable/user_guide/indexing.html#returning-a-view-versus-a-copy\n",
      "  import sys\n"
     ]
    }
   ],
   "source": [
    "ao_label = {\"적정\":0,\"한정\":1,\"부적정\":2,\"의견거절\":3,\"감사미필\":4,\"0\":4}\n",
    "for col in data.columns:\n",
    "    if \"AO\" in col:\n",
    "        for idx, i in enumerate(data[col]):\n",
    "            for col_idx, j in enumerate(ao_label):\n",
    "                if j in str(i):\n",
    "                    data[col][idx]=ao_label[j]"
   ]
  },
  {
   "cell_type": "markdown",
   "metadata": {},
   "source": [
    "## ms"
   ]
  },
  {
   "cell_type": "code",
   "execution_count": 224,
   "metadata": {},
   "outputs": [
    {
     "name": "stderr",
     "output_type": "stream",
     "text": [
      "C:\\ProgramData\\Anaconda3\\lib\\site-packages\\ipykernel_launcher.py:3: SettingWithCopyWarning: \n",
      "A value is trying to be set on a copy of a slice from a DataFrame\n",
      "\n",
      "See the caveats in the documentation: https://pandas.pydata.org/pandas-docs/stable/user_guide/indexing.html#returning-a-view-versus-a-copy\n",
      "  This is separate from the ipykernel package so we can avoid doing imports until\n",
      "C:\\ProgramData\\Anaconda3\\lib\\site-packages\\ipykernel_launcher.py:11: SettingWithCopyWarning: \n",
      "A value is trying to be set on a copy of a slice from a DataFrame\n",
      "\n",
      "See the caveats in the documentation: https://pandas.pydata.org/pandas-docs/stable/user_guide/indexing.html#returning-a-view-versus-a-copy\n",
      "  # This is added back by InteractiveShellApp.init_path()\n",
      "C:\\ProgramData\\Anaconda3\\lib\\site-packages\\ipykernel_launcher.py:5: SettingWithCopyWarning: \n",
      "A value is trying to be set on a copy of a slice from a DataFrame\n",
      "\n",
      "See the caveats in the documentation: https://pandas.pydata.org/pandas-docs/stable/user_guide/indexing.html#returning-a-view-versus-a-copy\n",
      "  \"\"\"\n",
      "C:\\ProgramData\\Anaconda3\\lib\\site-packages\\ipykernel_launcher.py:7: SettingWithCopyWarning: \n",
      "A value is trying to be set on a copy of a slice from a DataFrame\n",
      "\n",
      "See the caveats in the documentation: https://pandas.pydata.org/pandas-docs/stable/user_guide/indexing.html#returning-a-view-versus-a-copy\n",
      "  import sys\n",
      "C:\\ProgramData\\Anaconda3\\lib\\site-packages\\ipykernel_launcher.py:9: SettingWithCopyWarning: \n",
      "A value is trying to be set on a copy of a slice from a DataFrame\n",
      "\n",
      "See the caveats in the documentation: https://pandas.pydata.org/pandas-docs/stable/user_guide/indexing.html#returning-a-view-versus-a-copy\n",
      "  if __name__ == '__main__':\n"
     ]
    }
   ],
   "source": [
    "for i in range(len(data['MS'])):\n",
    "    if data['MS'][i]=='코스닥상장':\n",
    "        data['MS'][i]=0\n",
    "    elif data['MS'][i]=='상장':\n",
    "        data['MS'][i]=1\n",
    "    elif data['MS'][i]=='코넥스':\n",
    "        data['MS'][i]=2\n",
    "    elif data['MS'][i]=='상장관리':\n",
    "        data['MS'][i]=3\n",
    "    elif data['MS'][i]=='코스닥관리':\n",
    "        data['MS'][i]=4    "
   ]
  },
  {
   "cell_type": "markdown",
   "metadata": {},
   "source": [
    "## cs"
   ]
  },
  {
   "cell_type": "code",
   "execution_count": 225,
   "metadata": {},
   "outputs": [
    {
     "name": "stderr",
     "output_type": "stream",
     "text": [
      "C:\\ProgramData\\Anaconda3\\lib\\site-packages\\ipykernel_launcher.py:5: SettingWithCopyWarning: \n",
      "A value is trying to be set on a copy of a slice from a DataFrame\n",
      "\n",
      "See the caveats in the documentation: https://pandas.pydata.org/pandas-docs/stable/user_guide/indexing.html#returning-a-view-versus-a-copy\n",
      "  \"\"\"\n",
      "C:\\ProgramData\\Anaconda3\\lib\\site-packages\\ipykernel_launcher.py:3: SettingWithCopyWarning: \n",
      "A value is trying to be set on a copy of a slice from a DataFrame\n",
      "\n",
      "See the caveats in the documentation: https://pandas.pydata.org/pandas-docs/stable/user_guide/indexing.html#returning-a-view-versus-a-copy\n",
      "  This is separate from the ipykernel package so we can avoid doing imports until\n",
      "C:\\ProgramData\\Anaconda3\\lib\\site-packages\\ipykernel_launcher.py:7: SettingWithCopyWarning: \n",
      "A value is trying to be set on a copy of a slice from a DataFrame\n",
      "\n",
      "See the caveats in the documentation: https://pandas.pydata.org/pandas-docs/stable/user_guide/indexing.html#returning-a-view-versus-a-copy\n",
      "  import sys\n"
     ]
    }
   ],
   "source": [
    "for i in range(len(data['CS'])):\n",
    "    if data['CS'][i]=='대기업':\n",
    "        data['CS'][i]=0\n",
    "    elif data['CS'][i]=='중소기업':\n",
    "        data['CS'][i]=1\n",
    "    elif data['CS'][i]=='기타':\n",
    "        data['CS'][i]=2"
   ]
  },
  {
   "cell_type": "code",
   "execution_count": 229,
   "metadata": {},
   "outputs": [],
   "source": [
    "data.to_csv(\"./all_preprocessing.csv\", index=False)"
   ]
  },
  {
   "cell_type": "markdown",
   "metadata": {},
   "source": [
    "## 시각화"
   ]
  },
  {
   "cell_type": "markdown",
   "metadata": {},
   "source": [
    "# 데이터 변수 별로"
   ]
  },
  {
   "cell_type": "code",
   "execution_count": 249,
   "metadata": {},
   "outputs": [
    {
     "data": {
      "text/plain": [
       "0.0     784\n",
       "1.0       5\n",
       "2.0      37\n",
       "3.0      98\n",
       "4.0     221\n",
       "5.0     331\n",
       "6.0     301\n",
       "7.0     193\n",
       "8.0     144\n",
       "9.0      59\n",
       "10.0     18\n",
       "Name: 2000CR, dtype: int64"
      ]
     },
     "execution_count": 249,
     "metadata": {},
     "output_type": "execute_result"
    }
   ],
   "source": [
    "data_col[\"CR\"][\"2000CR\"].value_counts().sort_index()"
   ]
  },
  {
   "cell_type": "code",
   "execution_count": 255,
   "metadata": {},
   "outputs": [
    {
     "data": {
      "text/plain": [
       "0.0      26\n",
       "1.0      12\n",
       "2.0     240\n",
       "3.0     284\n",
       "4.0     334\n",
       "5.0     397\n",
       "6.0     414\n",
       "7.0     261\n",
       "8.0     141\n",
       "9.0      64\n",
       "10.0     18\n",
       "Name: 2017CR, dtype: int64"
      ]
     },
     "execution_count": 255,
     "metadata": {},
     "output_type": "execute_result"
    }
   ],
   "source": [
    "data_col[\"CR\"][\"2017CR\"].value_counts().sort_index()"
   ]
  },
  {
   "cell_type": "code",
   "execution_count": 277,
   "metadata": {},
   "outputs": [
    {
     "data": {
      "text/plain": [
       "2017SMC     -0.058552\n",
       "2017NI      -0.053843\n",
       "2017CBIT    -0.053647\n",
       "2017ACT     -0.053572\n",
       "2017IA      -0.053150\n",
       "2017CFOA    -0.048990\n",
       "2017DTA     -0.043056\n",
       "2017TA      -0.041206\n",
       "2017S       -0.038020\n",
       "2017TAT     -0.034099\n",
       "2017ACMTR   -0.033729\n",
       "2017DIA     -0.033026\n",
       "2017ACMTC   -0.027737\n",
       "2017TFAG    -0.003977\n",
       "2017L       -0.000543\n",
       "2017FCA      0.003747\n",
       "2017FCL      0.012183\n",
       "2017ACMTS    0.014183\n",
       "2017CAGR     0.025799\n",
       "2017NOCT     0.026875\n",
       "2017ACMTP    0.029156\n",
       "2017D        0.031591\n",
       "2017IG       0.056144\n",
       "2017LTB      0.073609\n",
       "2017CSI      0.084178\n",
       "2017ES       0.089083\n",
       "2017STB      0.107906\n",
       "2017CR       1.000000\n",
       "Name: 2017CR, dtype: float64"
      ]
     },
     "execution_count": 277,
     "metadata": {},
     "output_type": "execute_result"
    }
   ],
   "source": [
    "data_year[2017].corr()[\"2017CR\"].sort_values()"
   ]
  }
 ],
 "metadata": {
  "kernelspec": {
   "display_name": "Python 3",
   "language": "python",
   "name": "python3"
  },
  "language_info": {
   "codemirror_mode": {
    "name": "ipython",
    "version": 3
   },
   "file_extension": ".py",
   "mimetype": "text/x-python",
   "name": "python",
   "nbconvert_exporter": "python",
   "pygments_lexer": "ipython3",
   "version": "3.7.6"
  }
 },
 "nbformat": 4,
 "nbformat_minor": 4
}
