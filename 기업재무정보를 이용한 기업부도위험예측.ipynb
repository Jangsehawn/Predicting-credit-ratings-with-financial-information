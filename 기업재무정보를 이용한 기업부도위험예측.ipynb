{
 "cells": [
  {
   "cell_type": "code",
   "execution_count": 1,
   "metadata": {},
   "outputs": [
    {
     "name": "stdout",
     "output_type": "stream",
     "text": [
      "C:\\Users\\장세환\n"
     ]
    }
   ],
   "source": [
    "import os\n",
    "print(os.getcwd())\n"
   ]
  },
  {
   "cell_type": "code",
   "execution_count": 2,
   "metadata": {},
   "outputs": [
    {
     "name": "stdout",
     "output_type": "stream",
     "text": [
      "E:\\hanim\n"
     ]
    }
   ],
   "source": [
    "os.chdir(\"E:/hanim\")\n",
    "print(os.getcwd())"
   ]
  },
  {
   "cell_type": "code",
   "execution_count": 3,
   "metadata": {},
   "outputs": [],
   "source": [
    "import pandas as pd\n",
    "import numpy as np\n",
    "import matplotlib.pyplot as plt\n",
    "import csv"
   ]
  },
  {
   "cell_type": "code",
   "execution_count": 5,
   "metadata": {},
   "outputs": [],
   "source": [
    "all=pd.read_csv('all.csv')"
   ]
  },
  {
   "cell_type": "code",
   "execution_count": 6,
   "metadata": {},
   "outputs": [
    {
     "data": {
      "text/html": [
       "<div>\n",
       "<style scoped>\n",
       "    .dataframe tbody tr th:only-of-type {\n",
       "        vertical-align: middle;\n",
       "    }\n",
       "\n",
       "    .dataframe tbody tr th {\n",
       "        vertical-align: top;\n",
       "    }\n",
       "\n",
       "    .dataframe thead th {\n",
       "        text-align: right;\n",
       "    }\n",
       "</style>\n",
       "<table border=\"1\" class=\"dataframe\">\n",
       "  <thead>\n",
       "    <tr style=\"text-align: right;\">\n",
       "      <th></th>\n",
       "      <th>Unnamed: 0</th>\n",
       "      <th>Stock</th>\n",
       "      <th>2000ACT</th>\n",
       "      <th>2001ACT</th>\n",
       "      <th>2002ACT</th>\n",
       "      <th>2003ACT</th>\n",
       "      <th>2004ACT</th>\n",
       "      <th>2005ACT</th>\n",
       "      <th>2006ACT</th>\n",
       "      <th>2007ACT</th>\n",
       "      <th>...</th>\n",
       "      <th>2008TAT</th>\n",
       "      <th>2009TAT</th>\n",
       "      <th>2010TAT</th>\n",
       "      <th>2011TAT</th>\n",
       "      <th>2012TAT</th>\n",
       "      <th>2013TAT</th>\n",
       "      <th>2014TAT</th>\n",
       "      <th>2015TAT</th>\n",
       "      <th>2016TAT</th>\n",
       "      <th>2017TAT</th>\n",
       "    </tr>\n",
       "  </thead>\n",
       "  <tbody>\n",
       "    <tr>\n",
       "      <th>0</th>\n",
       "      <td>0</td>\n",
       "      <td>59210.0</td>\n",
       "      <td>6.81</td>\n",
       "      <td>3.98</td>\n",
       "      <td>3.43</td>\n",
       "      <td>3.02</td>\n",
       "      <td>3.08</td>\n",
       "      <td>3.54</td>\n",
       "      <td>4.07</td>\n",
       "      <td>4.43</td>\n",
       "      <td>...</td>\n",
       "      <td>0.74</td>\n",
       "      <td>0.64</td>\n",
       "      <td>0.52</td>\n",
       "      <td>0.50</td>\n",
       "      <td>0.47</td>\n",
       "      <td>0.43</td>\n",
       "      <td>0.43</td>\n",
       "      <td>0.52</td>\n",
       "      <td>0.51</td>\n",
       "      <td>0.52</td>\n",
       "    </tr>\n",
       "    <tr>\n",
       "      <th>1</th>\n",
       "      <td>1</td>\n",
       "      <td>39020.0</td>\n",
       "      <td>4.64</td>\n",
       "      <td>5.23</td>\n",
       "      <td>6.34</td>\n",
       "      <td>6.41</td>\n",
       "      <td>5.39</td>\n",
       "      <td>4.89</td>\n",
       "      <td>1.28</td>\n",
       "      <td>4.36</td>\n",
       "      <td>...</td>\n",
       "      <td>1.07</td>\n",
       "      <td>0.83</td>\n",
       "      <td>0.55</td>\n",
       "      <td>0.56</td>\n",
       "      <td>0.58</td>\n",
       "      <td>0.56</td>\n",
       "      <td>0.63</td>\n",
       "      <td>0.56</td>\n",
       "      <td>0.62</td>\n",
       "      <td>0.22</td>\n",
       "    </tr>\n",
       "    <tr>\n",
       "      <th>2</th>\n",
       "      <td>2</td>\n",
       "      <td>36480.0</td>\n",
       "      <td>4.90</td>\n",
       "      <td>4.19</td>\n",
       "      <td>3.44</td>\n",
       "      <td>3.68</td>\n",
       "      <td>3.70</td>\n",
       "      <td>3.92</td>\n",
       "      <td>3.64</td>\n",
       "      <td>3.56</td>\n",
       "      <td>...</td>\n",
       "      <td>0.68</td>\n",
       "      <td>0.72</td>\n",
       "      <td>0.76</td>\n",
       "      <td>0.67</td>\n",
       "      <td>0.63</td>\n",
       "      <td>0.79</td>\n",
       "      <td>0.89</td>\n",
       "      <td>1.03</td>\n",
       "      <td>0.91</td>\n",
       "      <td>0.68</td>\n",
       "    </tr>\n",
       "    <tr>\n",
       "      <th>3</th>\n",
       "      <td>3</td>\n",
       "      <td>39230.0</td>\n",
       "      <td>3.00</td>\n",
       "      <td>2.68</td>\n",
       "      <td>5.10</td>\n",
       "      <td>5.54</td>\n",
       "      <td>9.30</td>\n",
       "      <td>3.48</td>\n",
       "      <td>2.29</td>\n",
       "      <td>3.06</td>\n",
       "      <td>...</td>\n",
       "      <td>0.59</td>\n",
       "      <td>0.54</td>\n",
       "      <td>0.66</td>\n",
       "      <td>0.74</td>\n",
       "      <td>0.45</td>\n",
       "      <td>0.42</td>\n",
       "      <td>0.63</td>\n",
       "      <td>0.55</td>\n",
       "      <td>0.53</td>\n",
       "      <td>0.48</td>\n",
       "    </tr>\n",
       "    <tr>\n",
       "      <th>4</th>\n",
       "      <td>4</td>\n",
       "      <td>84110.0</td>\n",
       "      <td>2.26</td>\n",
       "      <td>2.50</td>\n",
       "      <td>2.83</td>\n",
       "      <td>3.22</td>\n",
       "      <td>3.02</td>\n",
       "      <td>2.70</td>\n",
       "      <td>2.55</td>\n",
       "      <td>2.66</td>\n",
       "      <td>...</td>\n",
       "      <td>0.78</td>\n",
       "      <td>0.69</td>\n",
       "      <td>0.72</td>\n",
       "      <td>0.74</td>\n",
       "      <td>0.78</td>\n",
       "      <td>0.81</td>\n",
       "      <td>0.89</td>\n",
       "      <td>0.00</td>\n",
       "      <td>0.04</td>\n",
       "      <td>0.08</td>\n",
       "    </tr>\n",
       "  </tbody>\n",
       "</table>\n",
       "<p>5 rows × 606 columns</p>\n",
       "</div>"
      ],
      "text/plain": [
       "   Unnamed: 0    Stock  2000ACT  2001ACT  2002ACT  2003ACT  2004ACT  2005ACT  \\\n",
       "0           0  59210.0     6.81     3.98     3.43     3.02     3.08     3.54   \n",
       "1           1  39020.0     4.64     5.23     6.34     6.41     5.39     4.89   \n",
       "2           2  36480.0     4.90     4.19     3.44     3.68     3.70     3.92   \n",
       "3           3  39230.0     3.00     2.68     5.10     5.54     9.30     3.48   \n",
       "4           4  84110.0     2.26     2.50     2.83     3.22     3.02     2.70   \n",
       "\n",
       "   2006ACT  2007ACT  ...  2008TAT  2009TAT  2010TAT  2011TAT  2012TAT  \\\n",
       "0     4.07     4.43  ...     0.74     0.64     0.52     0.50     0.47   \n",
       "1     1.28     4.36  ...     1.07     0.83     0.55     0.56     0.58   \n",
       "2     3.64     3.56  ...     0.68     0.72     0.76     0.67     0.63   \n",
       "3     2.29     3.06  ...     0.59     0.54     0.66     0.74     0.45   \n",
       "4     2.55     2.66  ...     0.78     0.69     0.72     0.74     0.78   \n",
       "\n",
       "   2013TAT  2014TAT  2015TAT  2016TAT  2017TAT  \n",
       "0     0.43     0.43     0.52     0.51     0.52  \n",
       "1     0.56     0.63     0.56     0.62     0.22  \n",
       "2     0.79     0.89     1.03     0.91     0.68  \n",
       "3     0.42     0.63     0.55     0.53     0.48  \n",
       "4     0.81     0.89     0.00     0.04     0.08  \n",
       "\n",
       "[5 rows x 606 columns]"
      ]
     },
     "execution_count": 6,
     "metadata": {},
     "output_type": "execute_result"
    }
   ],
   "source": [
    "all.head()"
   ]
  },
  {
   "cell_type": "code",
   "execution_count": 7,
   "metadata": {},
   "outputs": [
    {
     "data": {
      "text/html": [
       "<div>\n",
       "<style scoped>\n",
       "    .dataframe tbody tr th:only-of-type {\n",
       "        vertical-align: middle;\n",
       "    }\n",
       "\n",
       "    .dataframe tbody tr th {\n",
       "        vertical-align: top;\n",
       "    }\n",
       "\n",
       "    .dataframe thead th {\n",
       "        text-align: right;\n",
       "    }\n",
       "</style>\n",
       "<table border=\"1\" class=\"dataframe\">\n",
       "  <thead>\n",
       "    <tr style=\"text-align: right;\">\n",
       "      <th></th>\n",
       "      <th>Unnamed: 0</th>\n",
       "      <th>Stock</th>\n",
       "      <th>2000ACT</th>\n",
       "      <th>2001ACT</th>\n",
       "      <th>2002ACT</th>\n",
       "      <th>2003ACT</th>\n",
       "      <th>2004ACT</th>\n",
       "      <th>2005ACT</th>\n",
       "      <th>2006ACT</th>\n",
       "      <th>2007ACT</th>\n",
       "      <th>...</th>\n",
       "      <th>2008TAT</th>\n",
       "      <th>2009TAT</th>\n",
       "      <th>2010TAT</th>\n",
       "      <th>2011TAT</th>\n",
       "      <th>2012TAT</th>\n",
       "      <th>2013TAT</th>\n",
       "      <th>2014TAT</th>\n",
       "      <th>2015TAT</th>\n",
       "      <th>2016TAT</th>\n",
       "      <th>2017TAT</th>\n",
       "    </tr>\n",
       "  </thead>\n",
       "  <tbody>\n",
       "    <tr>\n",
       "      <th>count</th>\n",
       "      <td>2191.000000</td>\n",
       "      <td>2191.000000</td>\n",
       "      <td>2191.000000</td>\n",
       "      <td>2191.000000</td>\n",
       "      <td>2191.000000</td>\n",
       "      <td>2191.000000</td>\n",
       "      <td>2191.000000</td>\n",
       "      <td>2191.000000</td>\n",
       "      <td>2191.000000</td>\n",
       "      <td>2191.000000</td>\n",
       "      <td>...</td>\n",
       "      <td>2191.000000</td>\n",
       "      <td>2191.000000</td>\n",
       "      <td>2191.000000</td>\n",
       "      <td>2191.000000</td>\n",
       "      <td>2191.000000</td>\n",
       "      <td>2191.000000</td>\n",
       "      <td>2191.000000</td>\n",
       "      <td>2191.000000</td>\n",
       "      <td>2191.000000</td>\n",
       "      <td>2191.000000</td>\n",
       "    </tr>\n",
       "    <tr>\n",
       "      <th>mean</th>\n",
       "      <td>1098.187129</td>\n",
       "      <td>97069.657691</td>\n",
       "      <td>10.752013</td>\n",
       "      <td>15.899247</td>\n",
       "      <td>38.495892</td>\n",
       "      <td>10.493428</td>\n",
       "      <td>211.755518</td>\n",
       "      <td>317.380735</td>\n",
       "      <td>187.650278</td>\n",
       "      <td>77.160374</td>\n",
       "      <td>...</td>\n",
       "      <td>0.939904</td>\n",
       "      <td>0.862291</td>\n",
       "      <td>0.931086</td>\n",
       "      <td>0.922825</td>\n",
       "      <td>0.905728</td>\n",
       "      <td>0.900516</td>\n",
       "      <td>0.862017</td>\n",
       "      <td>0.835016</td>\n",
       "      <td>0.813747</td>\n",
       "      <td>0.812825</td>\n",
       "    </tr>\n",
       "    <tr>\n",
       "      <th>std</th>\n",
       "      <td>637.792340</td>\n",
       "      <td>100154.405904</td>\n",
       "      <td>109.771311</td>\n",
       "      <td>258.724184</td>\n",
       "      <td>1342.818583</td>\n",
       "      <td>122.266173</td>\n",
       "      <td>9401.820613</td>\n",
       "      <td>11325.579944</td>\n",
       "      <td>5189.940157</td>\n",
       "      <td>3085.081883</td>\n",
       "      <td>...</td>\n",
       "      <td>0.885266</td>\n",
       "      <td>0.768472</td>\n",
       "      <td>0.778274</td>\n",
       "      <td>0.759033</td>\n",
       "      <td>0.772975</td>\n",
       "      <td>0.892797</td>\n",
       "      <td>0.929591</td>\n",
       "      <td>0.685186</td>\n",
       "      <td>0.633791</td>\n",
       "      <td>0.641634</td>\n",
       "    </tr>\n",
       "    <tr>\n",
       "      <th>min</th>\n",
       "      <td>0.000000</td>\n",
       "      <td>20.000000</td>\n",
       "      <td>0.000000</td>\n",
       "      <td>0.000000</td>\n",
       "      <td>0.000000</td>\n",
       "      <td>0.000000</td>\n",
       "      <td>0.000000</td>\n",
       "      <td>0.000000</td>\n",
       "      <td>0.000000</td>\n",
       "      <td>0.000000</td>\n",
       "      <td>...</td>\n",
       "      <td>0.000000</td>\n",
       "      <td>0.000000</td>\n",
       "      <td>0.000000</td>\n",
       "      <td>0.000000</td>\n",
       "      <td>0.000000</td>\n",
       "      <td>0.000000</td>\n",
       "      <td>0.000000</td>\n",
       "      <td>0.000000</td>\n",
       "      <td>0.000000</td>\n",
       "      <td>0.000000</td>\n",
       "    </tr>\n",
       "    <tr>\n",
       "      <th>25%</th>\n",
       "      <td>547.500000</td>\n",
       "      <td>23155.000000</td>\n",
       "      <td>0.000000</td>\n",
       "      <td>0.000000</td>\n",
       "      <td>0.000000</td>\n",
       "      <td>0.000000</td>\n",
       "      <td>0.970000</td>\n",
       "      <td>1.570000</td>\n",
       "      <td>1.810000</td>\n",
       "      <td>2.100000</td>\n",
       "      <td>...</td>\n",
       "      <td>0.380000</td>\n",
       "      <td>0.370000</td>\n",
       "      <td>0.420000</td>\n",
       "      <td>0.440000</td>\n",
       "      <td>0.450000</td>\n",
       "      <td>0.430000</td>\n",
       "      <td>0.440000</td>\n",
       "      <td>0.440000</td>\n",
       "      <td>0.430000</td>\n",
       "      <td>0.405000</td>\n",
       "    </tr>\n",
       "    <tr>\n",
       "      <th>50%</th>\n",
       "      <td>1095.000000</td>\n",
       "      <td>65770.000000</td>\n",
       "      <td>3.670000</td>\n",
       "      <td>3.760000</td>\n",
       "      <td>4.120000</td>\n",
       "      <td>4.200000</td>\n",
       "      <td>4.630000</td>\n",
       "      <td>4.460000</td>\n",
       "      <td>4.420000</td>\n",
       "      <td>4.530000</td>\n",
       "      <td>...</td>\n",
       "      <td>0.840000</td>\n",
       "      <td>0.770000</td>\n",
       "      <td>0.830000</td>\n",
       "      <td>0.830000</td>\n",
       "      <td>0.800000</td>\n",
       "      <td>0.780000</td>\n",
       "      <td>0.750000</td>\n",
       "      <td>0.730000</td>\n",
       "      <td>0.710000</td>\n",
       "      <td>0.710000</td>\n",
       "    </tr>\n",
       "    <tr>\n",
       "      <th>75%</th>\n",
       "      <td>1643.500000</td>\n",
       "      <td>143185.000000</td>\n",
       "      <td>6.880000</td>\n",
       "      <td>6.895000</td>\n",
       "      <td>7.025000</td>\n",
       "      <td>6.920000</td>\n",
       "      <td>7.480000</td>\n",
       "      <td>7.385000</td>\n",
       "      <td>7.390000</td>\n",
       "      <td>7.485000</td>\n",
       "      <td>...</td>\n",
       "      <td>1.270000</td>\n",
       "      <td>1.200000</td>\n",
       "      <td>1.280000</td>\n",
       "      <td>1.255000</td>\n",
       "      <td>1.180000</td>\n",
       "      <td>1.160000</td>\n",
       "      <td>1.120000</td>\n",
       "      <td>1.090000</td>\n",
       "      <td>1.070000</td>\n",
       "      <td>1.065000</td>\n",
       "    </tr>\n",
       "    <tr>\n",
       "      <th>max</th>\n",
       "      <td>2361.000000</td>\n",
       "      <td>950180.000000</td>\n",
       "      <td>3624.860000</td>\n",
       "      <td>10953.650000</td>\n",
       "      <td>62734.510000</td>\n",
       "      <td>5416.370000</td>\n",
       "      <td>440072.760000</td>\n",
       "      <td>515107.000000</td>\n",
       "      <td>204690.480000</td>\n",
       "      <td>144256.320000</td>\n",
       "      <td>...</td>\n",
       "      <td>14.910000</td>\n",
       "      <td>9.590000</td>\n",
       "      <td>6.190000</td>\n",
       "      <td>7.010000</td>\n",
       "      <td>7.530000</td>\n",
       "      <td>20.460000</td>\n",
       "      <td>30.360000</td>\n",
       "      <td>13.930000</td>\n",
       "      <td>7.920000</td>\n",
       "      <td>8.810000</td>\n",
       "    </tr>\n",
       "  </tbody>\n",
       "</table>\n",
       "<p>8 rows × 548 columns</p>\n",
       "</div>"
      ],
      "text/plain": [
       "        Unnamed: 0          Stock      2000ACT       2001ACT       2002ACT  \\\n",
       "count  2191.000000    2191.000000  2191.000000   2191.000000   2191.000000   \n",
       "mean   1098.187129   97069.657691    10.752013     15.899247     38.495892   \n",
       "std     637.792340  100154.405904   109.771311    258.724184   1342.818583   \n",
       "min       0.000000      20.000000     0.000000      0.000000      0.000000   \n",
       "25%     547.500000   23155.000000     0.000000      0.000000      0.000000   \n",
       "50%    1095.000000   65770.000000     3.670000      3.760000      4.120000   \n",
       "75%    1643.500000  143185.000000     6.880000      6.895000      7.025000   \n",
       "max    2361.000000  950180.000000  3624.860000  10953.650000  62734.510000   \n",
       "\n",
       "           2003ACT        2004ACT        2005ACT        2006ACT  \\\n",
       "count  2191.000000    2191.000000    2191.000000    2191.000000   \n",
       "mean     10.493428     211.755518     317.380735     187.650278   \n",
       "std     122.266173    9401.820613   11325.579944    5189.940157   \n",
       "min       0.000000       0.000000       0.000000       0.000000   \n",
       "25%       0.000000       0.970000       1.570000       1.810000   \n",
       "50%       4.200000       4.630000       4.460000       4.420000   \n",
       "75%       6.920000       7.480000       7.385000       7.390000   \n",
       "max    5416.370000  440072.760000  515107.000000  204690.480000   \n",
       "\n",
       "             2007ACT  ...      2008TAT      2009TAT      2010TAT      2011TAT  \\\n",
       "count    2191.000000  ...  2191.000000  2191.000000  2191.000000  2191.000000   \n",
       "mean       77.160374  ...     0.939904     0.862291     0.931086     0.922825   \n",
       "std      3085.081883  ...     0.885266     0.768472     0.778274     0.759033   \n",
       "min         0.000000  ...     0.000000     0.000000     0.000000     0.000000   \n",
       "25%         2.100000  ...     0.380000     0.370000     0.420000     0.440000   \n",
       "50%         4.530000  ...     0.840000     0.770000     0.830000     0.830000   \n",
       "75%         7.485000  ...     1.270000     1.200000     1.280000     1.255000   \n",
       "max    144256.320000  ...    14.910000     9.590000     6.190000     7.010000   \n",
       "\n",
       "           2012TAT      2013TAT      2014TAT      2015TAT      2016TAT  \\\n",
       "count  2191.000000  2191.000000  2191.000000  2191.000000  2191.000000   \n",
       "mean      0.905728     0.900516     0.862017     0.835016     0.813747   \n",
       "std       0.772975     0.892797     0.929591     0.685186     0.633791   \n",
       "min       0.000000     0.000000     0.000000     0.000000     0.000000   \n",
       "25%       0.450000     0.430000     0.440000     0.440000     0.430000   \n",
       "50%       0.800000     0.780000     0.750000     0.730000     0.710000   \n",
       "75%       1.180000     1.160000     1.120000     1.090000     1.070000   \n",
       "max       7.530000    20.460000    30.360000    13.930000     7.920000   \n",
       "\n",
       "           2017TAT  \n",
       "count  2191.000000  \n",
       "mean      0.812825  \n",
       "std       0.641634  \n",
       "min       0.000000  \n",
       "25%       0.405000  \n",
       "50%       0.710000  \n",
       "75%       1.065000  \n",
       "max       8.810000  \n",
       "\n",
       "[8 rows x 548 columns]"
      ]
     },
     "execution_count": 7,
     "metadata": {},
     "output_type": "execute_result"
    }
   ],
   "source": [
    "all.describe()"
   ]
  },
  {
   "cell_type": "code",
   "execution_count": 11,
   "metadata": {},
   "outputs": [
    {
     "data": {
      "text/plain": [
       "<matplotlib.axes._subplots.AxesSubplot at 0x252b305e2c8>"
      ]
     },
     "execution_count": 11,
     "metadata": {},
     "output_type": "execute_result"
    },
    {
     "data": {
      "image/png": "[encoded data removed]",
      "text/plain": [
       "<Figure size 432x288 with 1 Axes>"
      ]
     },
     "metadata": {
      "needs_background": "light"
     },
     "output_type": "display_data"
    }
   ],
   "source": [
    "all['Stock'].plot()"
   ]
  },
  {
   "cell_type": "markdown",
   "metadata": {},
   "source": [
    "# ACT의 EDA"
   ]
  },
  {
   "cell_type": "code",
   "execution_count": 13,
   "metadata": {},
   "outputs": [
    {
     "data": {
      "text/plain": [
       "<matplotlib.axes._subplots.AxesSubplot at 0x252b3029448>"
      ]
     },
     "execution_count": 13,
     "metadata": {},
     "output_type": "execute_result"
    },
    {
     "data": {
      "image/png": "[encoded data removed]",
      "text/plain": [
       "<Figure size 432x288 with 1 Axes>"
      ]
     },
     "metadata": {
      "needs_background": "light"
     },
     "output_type": "display_data"
    }
   ],
   "source": [
    "all['2000ACT'].plot()"
   ]
  },
  {
   "cell_type": "code",
   "execution_count": 19,
   "metadata": {},
   "outputs": [
    {
     "data": {
      "text/plain": [
       "count    2191.000000\n",
       "mean       10.752013\n",
       "std       109.771311\n",
       "min         0.000000\n",
       "25%         0.000000\n",
       "50%         3.670000\n",
       "75%         6.880000\n",
       "max      3624.860000\n",
       "Name: 2000ACT, dtype: float64"
      ]
     },
     "execution_count": 19,
     "metadata": {},
     "output_type": "execute_result"
    }
   ],
   "source": [
    "all['2000ACT'].describe()"
   ]
  },
  {
   "cell_type": "code",
   "execution_count": 14,
   "metadata": {},
   "outputs": [
    {
     "data": {
      "text/plain": [
       "<matplotlib.axes._subplots.AxesSubplot at 0x252b2fb5c08>"
      ]
     },
     "execution_count": 14,
     "metadata": {},
     "output_type": "execute_result"
    },
    {
     "data": {
      "image/png": "[encoded data removed]",
      "text/plain": [
       "<Figure size 432x288 with 1 Axes>"
      ]
     },
     "metadata": {
      "needs_background": "light"
     },
     "output_type": "display_data"
    }
   ],
   "source": [
    "all['2001ACT'].plot()"
   ]
  },
  {
   "cell_type": "code",
   "execution_count": 15,
   "metadata": {},
   "outputs": [
    {
     "data": {
      "text/plain": [
       "<matplotlib.axes._subplots.AxesSubplot at 0x252b2f683c8>"
      ]
     },
     "execution_count": 15,
     "metadata": {},
     "output_type": "execute_result"
    },
    {
     "data": {
      "image/png": "[encoded data removed]",
      "text/plain": [
       "<Figure size 432x288 with 1 Axes>"
      ]
     },
     "metadata": {
      "needs_background": "light"
     },
     "output_type": "display_data"
    }
   ],
   "source": [
    "all['2002ACT'].plot()"
   ]
  },
  {
   "cell_type": "code",
   "execution_count": 16,
   "metadata": {},
   "outputs": [
    {
     "data": {
      "text/plain": [
       "<matplotlib.axes._subplots.AxesSubplot at 0x252b295c2c8>"
      ]
     },
     "execution_count": 16,
     "metadata": {},
     "output_type": "execute_result"
    },
    {
     "data": {
      "image/png": "[encoded data removed]",
      "text/plain": [
       "<Figure size 432x288 with 1 Axes>"
      ]
     },
     "metadata": {
      "needs_background": "light"
     },
     "output_type": "display_data"
    }
   ],
   "source": [
    "all['2003ACT'].plot()"
   ]
  },
  {
   "cell_type": "code",
   "execution_count": 17,
   "metadata": {},
   "outputs": [
    {
     "data": {
      "text/plain": [
       "<matplotlib.axes._subplots.AxesSubplot at 0x252b29cef88>"
      ]
     },
     "execution_count": 17,
     "metadata": {},
     "output_type": "execute_result"
    },
    {
     "data": {
      "image/png": "[encoded data removed]",
      "text/plain": [
       "<Figure size 432x288 with 1 Axes>"
      ]
     },
     "metadata": {
      "needs_background": "light"
     },
     "output_type": "display_data"
    }
   ],
   "source": [
    "all['2004ACT'].plot()"
   ]
  },
  {
   "cell_type": "code",
   "execution_count": 18,
   "metadata": {},
   "outputs": [
    {
     "data": {
      "text/plain": [
       "<matplotlib.axes._subplots.AxesSubplot at 0x252b2a0dcc8>"
      ]
     },
     "execution_count": 18,
     "metadata": {},
     "output_type": "execute_result"
    },
    {
     "data": {
      "image/png": "[encoded data removed]",
      "text/plain": [
       "<Figure size 432x288 with 1 Axes>"
      ]
     },
     "metadata": {
      "needs_background": "light"
     },
     "output_type": "display_data"
    }
   ],
   "source": [
    "all['2005ACT'].plot()"
   ]
  },
  {
   "cell_type": "markdown",
   "metadata": {},
   "source": [
    "# To Do List\n",
    "1. 데이터 문자형 임베딩\n",
    "2. 년도별로 묶기\n",
    "3. 예측값 별로 그래프 그려보기 \n",
    "4. 예측값이란 상관관계 높은 피쳐 뽑아보기"
   ]
  },
  {
   "cell_type": "code",
   "execution_count": 20,
   "metadata": {},
   "outputs": [
    {
     "data": {
      "text/plain": [
       "0        59210.0\n",
       "1        39020.0\n",
       "2        36480.0\n",
       "3        39230.0\n",
       "4        84110.0\n",
       "          ...   \n",
       "2186    272550.0\n",
       "2187    210540.0\n",
       "2188    266870.0\n",
       "2189    194480.0\n",
       "2190    240340.0\n",
       "Name: Stock, Length: 2191, dtype: float64"
      ]
     },
     "execution_count": 20,
     "metadata": {},
     "output_type": "execute_result"
    }
   ],
   "source": [
    "all['Stock']# 년도 별로 다 똑같음-> 수정 및 확인 필요"
   ]
  },
  {
   "cell_type": "code",
   "execution_count": 24,
   "metadata": {},
   "outputs": [
    {
     "data": {
      "text/plain": [
       "Index(['Unnamed: 0', 'Stock', '2000ACT', '2001ACT', '2002ACT', '2003ACT',\n",
       "       '2004ACT', '2005ACT', '2006ACT', '2007ACT',\n",
       "       ...\n",
       "       '2008TAT', '2009TAT', '2010TAT', '2011TAT', '2012TAT', '2013TAT',\n",
       "       '2014TAT', '2015TAT', '2016TAT', '2017TAT'],\n",
       "      dtype='object', length=606)"
      ]
     },
     "execution_count": 24,
     "metadata": {},
     "output_type": "execute_result"
    }
   ],
   "source": [
    "all.columns"
   ]
  },
  {
   "cell_type": "code",
   "execution_count": null,
   "metadata": {},
   "outputs": [],
   "source": []
  },
  {
   "cell_type": "code",
   "execution_count": null,
   "metadata": {},
   "outputs": [],
   "source": []
  },
  {
   "cell_type": "code",
   "execution_count": null,
   "metadata": {},
   "outputs": [],
   "source": []
  }
 ],
 "metadata": {
  "kernelspec": {
   "display_name": "Python 3",
   "language": "python",
   "name": "python3"
  },
  "language_info": {
   "codemirror_mode": {
    "name": "ipython",
    "version": 3
   },
   "file_extension": ".py",
   "mimetype": "text/x-python",
   "name": "python",
   "nbconvert_exporter": "python",
   "pygments_lexer": "ipython3",
   "version": "3.7.7"
  }
 },
 "nbformat": 4,
 "nbformat_minor": 2
}
